{
 "cells": [
  {
   "cell_type": "markdown",
   "metadata": {},
   "source": [
    "# London Fire Brigade Animal Rescue"
   ]
  },
  {
   "cell_type": "markdown",
   "metadata": {},
   "source": [
    "This Jupyter Notebook will serve as your workspace for the Intro to GIS in Python course. There are commented cells where you may enter and run your code as you make your way through.<br>\n",
    "- Make sure that you have completed the first step of installing all the required python packages before you begin."
   ]
  },
  {
   "cell_type": "markdown",
   "metadata": {},
   "source": [
    "## Set up Python"
   ]
  },
  {
   "cell_type": "markdown",
   "metadata": {},
   "source": [
    "## Install & load Python libraries"
   ]
  },
  {
   "cell_type": "code",
   "execution_count": null,
   "metadata": {
    "collapsed": true
   },
   "outputs": [],
   "source": [
    "#Import all the Python packages required for the course ...\n"
   ]
  },
  {
   "cell_type": "markdown",
   "metadata": {},
   "source": [
    "## Sourcing Data\n",
    "\n",
    "### Local Authority District Boundaries\n",
    "Go to the [Open Geography Portal](https://geoportal.statistics.gov.uk/) and download the 2019 Local Authority District BGC boundaries. Save them to data/shp in your project structure and unzip.\n",
    "- Open the folder and see how many different files there are."
   ]
  },
  {
   "cell_type": "markdown",
   "metadata": {},
   "source": [
    "### London Fire Brigade Animal Rescue Data\n",
    "The London Fire Brigade (lfb) data has been tidied up and saved as a Comma Separated Value file (.csv). We can use **`read_csv()`** to open it in Python.\n",
    "- Create a new object called **`lfb`** by using **`read_csv()`**. Load data located in “data/csv/lfb_2009_2020.csv”.\n",
    "- Use **`.head()`** to view **`lfb`** structure."
   ]
  },
  {
   "cell_type": "code",
   "execution_count": null,
   "metadata": {
    "collapsed": true
   },
   "outputs": [],
   "source": [
    "#Load in lbf\n"
   ]
  },
  {
   "cell_type": "code",
   "execution_count": null,
   "metadata": {
    "collapsed": true
   },
   "outputs": [],
   "source": [
    "#Use .head() to check lfb\n"
   ]
  },
  {
   "cell_type": "markdown",
   "metadata": {},
   "source": [
    "### Turning lfb data into a spatial object"
   ]
  },
  {
   "cell_type": "markdown",
   "metadata": {
    "collapsed": true
   },
   "source": [
    "- Use the **`gpd.GeoDataFrame()`** function and pass the easting and northing columns to convert **`lfb`** into a GeoDataFrame.\n",
    "- Name the output **`lfb_gdf`**. The **`gpd.GeoDataFrame()`** function which takes the following arguments:<br>\n",
    ">*`new_object = gpd.GeoDataFrame(input_data_frame, geometry = gpd.points_from_xy(input_data_frame.x_coordinate_column,\n",
    "input_data_frame.y_coordinate_column), crs = 27700)`*\n",
    "- Use **`.head()`** function to take a look at the new GeoDataFrame"
   ]
  },
  {
   "cell_type": "code",
   "execution_count": null,
   "metadata": {
    "collapsed": true
   },
   "outputs": [],
   "source": [
    "#Convert lfb into a GeoDataFrame lfb_gdf\n",
    "\n"
   ]
  },
  {
   "cell_type": "code",
   "execution_count": null,
   "metadata": {
    "collapsed": true
   },
   "outputs": [],
   "source": [
    "#Use .head() to view the GeoDataFrame\n"
   ]
  },
  {
   "cell_type": "markdown",
   "metadata": {},
   "source": [
    "### Quick static map\n",
    "\n",
    "- Visualise **`lfb_gdf`** using the **`.plot()`** function.\n"
   ]
  },
  {
   "cell_type": "code",
   "execution_count": null,
   "metadata": {
    "collapsed": true
   },
   "outputs": [],
   "source": [
    "#Create a map of lfb_gdf\n"
   ]
  },
  {
   "cell_type": "markdown",
   "metadata": {},
   "source": [
    "### Loading a shapefile\n",
    "- Use **`gpd.read_file()`** to load the LAD boundaries as **`lad_2019`**.\n",
    "- Make a static map of **`lad_2019`** using **`.plot()`**"
   ]
  },
  {
   "cell_type": "code",
   "execution_count": null,
   "metadata": {
    "collapsed": true
   },
   "outputs": [],
   "source": [
    "#load LAD boundaries\n"
   ]
  },
  {
   "cell_type": "code",
   "execution_count": null,
   "metadata": {
    "collapsed": true
   },
   "outputs": [],
   "source": [
    "#Creat a map of lad_2019\n"
   ]
  },
  {
   "cell_type": "markdown",
   "metadata": {},
   "source": [
    "### Filter spatial data by variable\n",
    "\n",
    "- Inspect **`lad_2019`** using **`.head()`**, and identify which column holds the GSS codes - it should end in “cd”.\n",
    "- Filter **`lad_2019`** to create a new object called **`london_lad`**. Use **`.loc`** alongside **`.str.startswith()`** to only keep observations which have a GSS code starting with “E09”.\n",
    "- Plot **`london_lad`** to see if the results look correct."
   ]
  },
  {
   "cell_type": "code",
   "execution_count": null,
   "metadata": {
    "collapsed": true
   },
   "outputs": [],
   "source": [
    "#Inspect london_2019 using .head()\n"
   ]
  },
  {
   "cell_type": "code",
   "execution_count": null,
   "metadata": {
    "collapsed": true
   },
   "outputs": [],
   "source": [
    "#Filter lads_2019 for observations with \"E09\" \n",
    "\n"
   ]
  },
  {
   "cell_type": "code",
   "execution_count": null,
   "metadata": {
    "collapsed": true
   },
   "outputs": [],
   "source": [
    "#Create a map of london_lad \n"
   ]
  },
  {
   "cell_type": "markdown",
   "metadata": {},
   "source": [
    "### Dissolve boundaries\n",
    "- Create a new column named **`group`** on **`london_lad`** using the **`.assign()`** function and give it a common variable **`'1'`**.\n",
    "- Use **`.head()`** to view **`london_lad`**\n",
    "- Create a new object called **`london_boundary`** using the **`.dissolve()`** function on the **`group`** column.\n",
    "- Plot **`london_boundary`** to check the results.\n"
   ]
  },
  {
   "cell_type": "code",
   "execution_count": null,
   "metadata": {
    "collapsed": true
   },
   "outputs": [],
   "source": [
    "#Creat a new column on london_lad called group using the .assign() function\n"
   ]
  },
  {
   "cell_type": "code",
   "execution_count": null,
   "metadata": {
    "collapsed": true
   },
   "outputs": [],
   "source": [
    "#Take a look at london_lad\n"
   ]
  },
  {
   "cell_type": "code",
   "execution_count": null,
   "metadata": {
    "collapsed": true
   },
   "outputs": [],
   "source": [
    "#Use the dissolve function on the 'group' column\n"
   ]
  },
  {
   "cell_type": "code",
   "execution_count": null,
   "metadata": {
    "collapsed": true
   },
   "outputs": [],
   "source": [
    "#Create a map of london_boundary\n"
   ]
  },
  {
   "cell_type": "markdown",
   "metadata": {},
   "source": [
    "### Spatial subset part 1\n",
    "- Use **`gpd.overlay`** to spatially subset **`lfb_gpd`** by testing its relationship with **`london_boundary`** using the **`intersects`** operation. Name the output **`lfb_london`**.<br>\n",
    "> e.g. **`spatial_subset = gpd.overlay(gpd1, gpd2, how ='operation')`**\n",
    "- Expect an error due to crs mismatch."
   ]
  },
  {
   "cell_type": "code",
   "execution_count": null,
   "metadata": {
    "collapsed": true
   },
   "outputs": [],
   "source": [
    "#Create a new object 'lfb_london' by overlaying lfb_gpd with london_boundary\n"
   ]
  },
  {
   "cell_type": "markdown",
   "metadata": {},
   "source": [
    "### Check CRS\n",
    "- Use **`.crs`** to check the crs on each GeoDataFrame and compare the results.\n",
    "- Another option is to run a boolean check on both GeoDataFrames and see what we get.<br>\n",
    "> *e.g.*  **`gdf1.crs == gdf2.crs`**"
   ]
  },
  {
   "cell_type": "code",
   "execution_count": null,
   "metadata": {
    "collapsed": true
   },
   "outputs": [],
   "source": [
    "#check crs on lfb_gdf\n"
   ]
  },
  {
   "cell_type": "code",
   "execution_count": null,
   "metadata": {
    "collapsed": true
   },
   "outputs": [],
   "source": [
    "#check crs on london_boundary \n"
   ]
  },
  {
   "cell_type": "code",
   "execution_count": null,
   "metadata": {
    "collapsed": true
   },
   "outputs": [],
   "source": [
    "#check if they match using a bolean check\n"
   ]
  },
  {
   "cell_type": "markdown",
   "metadata": {},
   "source": [
    "### Change CRS\n",
    "- Match the crs on both GeoDataFrames by setting the **`london_boundary.crs`** to **`lfb_gdf.crs`**\n",
    "- Run a boolean check again to make sure they now match"
   ]
  },
  {
   "cell_type": "code",
   "execution_count": null,
   "metadata": {
    "collapsed": true
   },
   "outputs": [],
   "source": [
    "#Set the crs on london_boundary to the from lfb_gdf\n"
   ]
  },
  {
   "cell_type": "code",
   "execution_count": null,
   "metadata": {
    "collapsed": true
   },
   "outputs": [],
   "source": [
    "#Check to see if they match now\n"
   ]
  },
  {
   "cell_type": "markdown",
   "metadata": {},
   "source": [
    "### Spatial subset part 2\n",
    "- Use **`gpd.overlay`** to spatially subset **`lfb_gpd`** by testing its relationship with **`london_boundary`** using the **`intersection`** operation. Overwrite **`lfb_gpd`**\n",
    "- Plot **`lfb_gdf`** to check if the results are correct."
   ]
  },
  {
   "cell_type": "code",
   "execution_count": null,
   "metadata": {
    "collapsed": true
   },
   "outputs": [],
   "source": [
    "# Spatially subset lfb_gdf using overlay and intersection on lfb_gpd\n"
   ]
  },
  {
   "cell_type": "code",
   "execution_count": null,
   "metadata": {
    "collapsed": true
   },
   "outputs": [],
   "source": [
    "#Create a map of lfb_gpd\n"
   ]
  },
  {
   "cell_type": "markdown",
   "metadata": {
    "collapsed": true
   },
   "source": [
    "### Spatial joins\n",
    "- Read in the MSOA_2011_LONDON as msoa_london - use **`gpd.read()`**.\n",
    "- Check if **`msoa_london`**’s CRS and that of **`lfb_gdf`** match. Change **`msoa_london`** crs if necessary.\n",
    "- Perform a spatial join on **`msoa_london`** and **`lfb_gdf`** using **`gpd.sjoin()`** function and pass **`how = 'inner'`** and the **`intersects`** operation. Name the new object **`london_msoa_lfb`**. <br>\n",
    ">e.g.  *join_output = gpd.sjoin(gdf1, gdf2, how = 'inner', op = 'intersects')*\n",
    "- Inspect your new object using **`.head()`** to see what columns have been added.\n",
    "- Create a map of the new object to see what it looks like.\n"
   ]
  },
  {
   "cell_type": "code",
   "execution_count": null,
   "metadata": {
    "collapsed": true
   },
   "outputs": [],
   "source": [
    "#Read in MSOA_2011_LONDON\n"
   ]
  },
  {
   "cell_type": "code",
   "execution_count": null,
   "metadata": {
    "collapsed": true
   },
   "outputs": [],
   "source": [
    "#Check to see if crs of msoa_london matches with lfb_gdf.crs\n"
   ]
  },
  {
   "cell_type": "code",
   "execution_count": null,
   "metadata": {
    "collapsed": true
   },
   "outputs": [],
   "source": [
    "#Change msoa_london crs if needed\n"
   ]
  },
  {
   "cell_type": "code",
   "execution_count": null,
   "metadata": {
    "collapsed": true
   },
   "outputs": [],
   "source": [
    "#Perform a spatial join between lfb_gdf and msoa_london to create london_msos_lfb\n"
   ]
  },
  {
   "cell_type": "code",
   "execution_count": null,
   "metadata": {
    "collapsed": true
   },
   "outputs": [],
   "source": [
    "#Use .head() to inspect london_msos_lfb\n"
   ]
  },
  {
   "cell_type": "code",
   "execution_count": null,
   "metadata": {
    "collapsed": true
   },
   "outputs": [],
   "source": [
    "#Visualise london_msoa_lfb\n"
   ]
  },
  {
   "cell_type": "markdown",
   "metadata": {},
   "source": [
    "### Checking for points that didn't join\n",
    "\n",
    "- Use **`gpd.overlay`**() and **`symmetric_difference`** to find point that didn't join between **`lfb_gdf`** and **`london_msoa_lfb`**.\n",
    "- Save those to a new object called **`lfb_msoa_symmetric_difference`**\n",
    "- Use **`.head()`** to check the output\n",
    "- Create a map of the points and see why they did not join. Use **`london_boundary`** and **`lfb_msoa_symmetric_difference`**. Code is shown below:<br> \n",
    ">*`f, ax = plt.subplots()\n",
    "london_boundary.plot(ax=ax, color='grey')\n",
    "lfb_msoa_symmetric_difference.plot(ax=ax, marker='o', color='red', markersize=20)`*"
   ]
  },
  {
   "cell_type": "code",
   "execution_count": null,
   "metadata": {
    "collapsed": true
   },
   "outputs": [],
   "source": [
    "#Create new object lfb_msoa_symmetric_difference using the overlay function\n"
   ]
  },
  {
   "cell_type": "code",
   "execution_count": null,
   "metadata": {
    "collapsed": true
   },
   "outputs": [],
   "source": [
    "#Check the output with .head()\n"
   ]
  },
  {
   "cell_type": "code",
   "execution_count": null,
   "metadata": {
    "collapsed": true
   },
   "outputs": [],
   "source": [
    "#Create a map of both lfb_msoa_symmetric_difference and london_boundary\n"
   ]
  },
  {
   "cell_type": "markdown",
   "metadata": {
    "collapsed": true
   },
   "source": [
    "### Making the msoa summary statistics\n",
    "\n",
    "- Use the pandas drop function on **`london_msoa_lfb`** to remove geometry data, name the output **`lfb_msoa_stats`**\n",
    "- Create summary statistics per MSOA - sum of **`cost_gbp`** as **`total_cost`** and the total number of incidents as **`n_cases`**. You will need to use **`.group_by()`** and **`.agg()`**.\n",
    "- Use **`.head()`** to take a look at **`lfb_msoa_stats`** \n",
    "- Create a new column on **`lfb_msoa_stats`** called **`cost_per_incident`** using **`total_cost`** divided by **`n_cases`**. For example: <br> \n",
    "> `df['new_column'] = df.column1/df.column2` \n",
    "- Use **`.head()`** to take a look at **`lfb_msoa_stats`** again\n",
    "- Join **`msoa_london`** to **`lfb_msoa_stats`**, using the **`.merge()`** function with **`left_join()`** and create a new object **`msoa_lfb`**\n",
    "- Use **`.head()`** to take a look at **`msoa_lfb`**"
   ]
  },
  {
   "cell_type": "code",
   "execution_count": null,
   "metadata": {
    "collapsed": true
   },
   "outputs": [],
   "source": [
    "#Drop geometry from london_msoa_lfb\n"
   ]
  },
  {
   "cell_type": "code",
   "execution_count": null,
   "metadata": {
    "collapsed": true
   },
   "outputs": [],
   "source": [
    "#Create summary statistics by aggregation cost_gbp and counting the number of cases per msoa\n"
   ]
  },
  {
   "cell_type": "code",
   "execution_count": null,
   "metadata": {
    "collapsed": true
   },
   "outputs": [],
   "source": [
    "#Check lfb_msoa_stats with .head()\n"
   ]
  },
  {
   "cell_type": "code",
   "execution_count": null,
   "metadata": {
    "collapsed": true
   },
   "outputs": [],
   "source": [
    "#Create a new column 'cost_per_incident' by dividing total_cost by n_cases\n"
   ]
  },
  {
   "cell_type": "code",
   "execution_count": null,
   "metadata": {
    "collapsed": true
   },
   "outputs": [],
   "source": [
    "#Check lfb_msoa_stats again with .head()\n"
   ]
  },
  {
   "cell_type": "code",
   "execution_count": null,
   "metadata": {
    "collapsed": true
   },
   "outputs": [],
   "source": [
    "#Create msoa_lfb by merging msoa_london to lfb_msoa_stats \n"
   ]
  },
  {
   "cell_type": "code",
   "execution_count": null,
   "metadata": {
    "collapsed": true
   },
   "outputs": [],
   "source": [
    "#Check the output with .head()\n"
   ]
  },
  {
   "cell_type": "markdown",
   "metadata": {},
   "source": [
    "At this stage it is a good idea to save our data. We can do this using the **`output_filename.to_file()`** function. It needs the following to create a spatial output: <br>\n",
    "- A GeoDataFrame\n",
    "- The file path where the output is to be stored\n",
    "- A name for the output\n",
    "- The file extension for the spatial output. e.g.(**`.shp`** for shapefiles) "
   ]
  },
  {
   "cell_type": "markdown",
   "metadata": {},
   "source": [
    ">If something has gone wrong with your final output, a complete **`msoa_lfb.gpkg`** is available in the data folder for you to load and use."
   ]
  },
  {
   "cell_type": "markdown",
   "metadata": {},
   "source": [
    "### Save data to shapefile\n",
    "- We can do this using the output_filename.to_file() function. It needs the following to create a spatial output:<br>\n",
    ">A GeoDataFrame<br>\n",
    ">The file path where the output is to be stored<br>\n",
    ">A name for the output<br>\n",
    ">The file extension for the spatial output. e.g.(**`.shp`** for shapefiles)"
   ]
  },
  {
   "cell_type": "code",
   "execution_count": null,
   "metadata": {
    "collapsed": true
   },
   "outputs": [],
   "source": [
    "#Save msoa_lfb as a shapefile \n"
   ]
  },
  {
   "cell_type": "markdown",
   "metadata": {},
   "source": [
    "### Doing more within our map. \n",
    "\n",
    "Next, we may want to Increasing the size of our map to make it larger on the screen. We will need an additional command to achieve this. <br>\n",
    "The **`plt.subplots()`** command, when called without any inputs, creates two different objects: a Figure object (**`fig`**) and an Axes object (**`ax`**). <br>\n",
    "The Figure object is a container that holds everything that you see on the page. The Axes is the part of the page that holds the data. It is the canvas on which we will draw with our data, to visualize it\n",
    "\n",
    "It is also this canvas that we need to manipulate in order to increase the size of our map. This is specified with the argument **`figsize`**. <br>\n",
    "The first number represents the width, the X axis, and the second corresponds with the height, the Y axis.\n",
    "\n",
    "- Create the map canvas with **`fig, ax`** alongside **`plt.subplots()`**, setting both the width and the height to **`10`**\n",
    "- Plot **`msoa_lfb`** inside the canvas by setting **`ax`** equal to **`ax`**."
   ]
  },
  {
   "cell_type": "code",
   "execution_count": null,
   "metadata": {
    "collapsed": true
   },
   "outputs": [],
   "source": [
    "#Create the map canvas and plot the map inside the canvas\n",
    "\n"
   ]
  },
  {
   "cell_type": "markdown",
   "metadata": {
    "collapsed": true
   },
   "source": [
    "We can specify a variable that we would like the map to visualise. We just need to set the column argument equal to a column with normalised numerical data. We can do this by passing **`cost_per_incident`** onto the column argument.<br>The holes on the map indicate that there is missing data. We will have to take this into consideration for our finished map.\n",
    "\n",
    "- Add the column argument inside the **`.plot()`** function and pass **`cost_per_incident`** onto this. "
   ]
  },
  {
   "cell_type": "code",
   "execution_count": null,
   "metadata": {
    "collapsed": true
   },
   "outputs": [],
   "source": [
    "#Add the column argument and pass cost_per_incident\n",
    "\n"
   ]
  },
  {
   "cell_type": "markdown",
   "metadata": {},
   "source": [
    "We can also select a classification method to bin our data into categories. We will use Quantiles and pass it onto the **`scheme`** argument. The **`k`** argument specifies the number of categories we want to split our data by. \n",
    "- Add the **`scheme`** argument and set this equal to **`Quantiles`** \n",
    "- Set **`k`** equal to **`5`**"
   ]
  },
  {
   "cell_type": "code",
   "execution_count": null,
   "metadata": {
    "collapsed": true
   },
   "outputs": [],
   "source": [
    "#Set scheme equal to Quantiles and k=5\n",
    "\n",
    "\n"
   ]
  },
  {
   "cell_type": "markdown",
   "metadata": {},
   "source": [
    "We can also specify a colour using the cmap argument. \n",
    "cmap which stands for colormap is an inbuilt matplotlib dictionary that contains various sets of color styles. \n",
    "The matplotlib colormaps are divided into the following categories: **Sequantial**, **Diverging**, and **Qualitative**. A list of some of the color options are given below:\n",
    "\n",
    "- **Perceptually Uniform Sequential** <br>`['viridis', 'plasma', 'inferno', 'magma']`\n",
    "\n",
    "- **Sequential** <br>`['Greys', 'Purples', 'Blues', 'Greens', 'Oranges', 'Reds', 'YlOrBr', 'YlOrRd', 'OrRd', 'PuRd', 'RdPu', 'BuPu', 'GnBu', 'PuBu', 'YlGnBu', 'PuBuGn', 'BuGn', 'YlGn']`\n",
    "\n",
    "- **Diverging**<br>`['PiYG', 'PRGn', 'BrBG', 'PuOr', 'RdGy', 'RdBu', 'RdYlBu', 'RdYlGn', 'Spectral', 'coolwarm', 'bwr', 'seismic']`\n",
    "\n",
    "- **Qualitative**<br>`['Pastel1', 'Pastel2', 'Paired', 'Accent', 'Dark2', 'Set1', 'Set2', 'Set3', 'tab10', 'tab20', 'tab20b', 'tab20c']`\n",
    "\n",
    "- **Miscellaneous**<br>`['flag', 'prism', 'ocean', 'gist_earth', 'terrain', 'gist_stern', 'gnuplot', 'gnuplot2', 'CMRmap', 'cubehelix', 'brg', 'hsv', 'gist_rainbow', 'rainbow', 'jet', 'nipy_spectral', 'gist_ncar']`\n",
    "\n",
    "Geopandas selects a sequantial colourmap when the column plotted has numerical data. The default colourmap is called **`viridis`**. We need to change this to a more appropriate colourmap for a choropleth map. For example, something that has colors that stay near or in the same colour family.\n",
    "We are interested in a sequantial colour style and will be selecting `'Blues'`. \n",
    "To add a legend, we just need to pass **`legend = True`** and this will do the job.\n",
    "\n",
    "- Change the map colour using the **`cmap`** argument and set this to **`Blues`**\n",
    "- Add a legend to the map \n"
   ]
  },
  {
   "cell_type": "code",
   "execution_count": null,
   "metadata": {
    "collapsed": true
   },
   "outputs": [],
   "source": [
    "#Change the map colour scheme and add a legend\n",
    "\n",
    "\n"
   ]
  },
  {
   "cell_type": "markdown",
   "metadata": {
    "collapsed": true
   },
   "source": [
    "We can add a title to out map using the **`plt.title()`** function\n",
    "\n",
    "- Add a title to the map 'Cost of animal related incidents per MSOA, between 2009 and 2020'."
   ]
  },
  {
   "cell_type": "code",
   "execution_count": null,
   "metadata": {
    "collapsed": true
   },
   "outputs": [],
   "source": [
    "#Adding a title to the map\n",
    "\n"
   ]
  },
  {
   "cell_type": "markdown",
   "metadata": {},
   "source": [
    "We can also change our mapped variable and select a different classification scheme to split our data. We will use **`equal_interval`** and increase our number of categories to six on the **`total_cost`** variable.\n",
    "\n",
    "- Set **`total_cost`** as your new mapped variable\n",
    "- Change the map classification scheme to **`equal_interval`**"
   ]
  },
  {
   "cell_type": "code",
   "execution_count": null,
   "metadata": {
    "collapsed": true
   },
   "outputs": [],
   "source": [
    "#Change the mapped variable to total_cost and scheme to equal_interval\n",
    "\n"
   ]
  },
  {
   "cell_type": "markdown",
   "metadata": {},
   "source": [
    "We can also increase the number of our categories using the **`k=`** argument. We will increase ours to '9' for the map.\n",
    "- Increase the number of your categories to **`9`**"
   ]
  },
  {
   "cell_type": "code",
   "execution_count": null,
   "metadata": {
    "collapsed": true
   },
   "outputs": [],
   "source": [
    "#Setting the number of categories to 9\n",
    "\n"
   ]
  },
  {
   "cell_type": "markdown",
   "metadata": {},
   "source": [
    "Alternatively, we may want to use a customised classification to break our data. We need the **`classification_kwds=dict(bins=[])`** argument to achieve this and specify the bins inside the square brackets. <br>\n",
    "As we know from one of the previous maps, some areas on the map have no data and will normally have a white background. This is often hard to spot on a sequential colour style therefore we need to distinguish these areas from those which have low category values shown with the lighter colour shades. <br>\n",
    "We will have to add a new category to highlight such areas on the map and label them on the legend as missing values. \n",
    "The argument **`missing_kwds`** enables this functionality. **`\"\"color\"`** controls how areas with missing values will be represented on the map while **`\"label\"`** defines the description to be shown on the legend.\n",
    "\n",
    "- Set the classification bins to 2000 increments \n",
    "- Label the missing values using the **`missing_kwds`** argument "
   ]
  },
  {
   "cell_type": "code",
   "execution_count": null,
   "metadata": {
    "collapsed": true
   },
   "outputs": [],
   "source": [
    "#Set the classification bins and label the missing values on the legend\n",
    "\n"
   ]
  },
  {
   "cell_type": "markdown",
   "metadata": {},
   "source": [
    "Now that we have our legend and happy with the categories to classify our data, we need to tidy up our canvas by increasing the figure size and moving our legend. We will also add a title for our legend.<br>\n",
    "This can be done using the **`legend_kwds`** argument. We can also specify the position of our legend on the map within this argument. \n",
    "- Increase the size of the map canvas by increasing the width to **`12`**. Leave the height equal to **`10`**\n",
    "- Use **`legend_kwds`** to add a title on the legend\n",
    "- Use **`'bbox_to_anchor':(_,_)`** inside the **`legend_kwds`** argument to find a suitable position for the legend on the map. "
   ]
  },
  {
   "cell_type": "code",
   "execution_count": null,
   "metadata": {
    "collapsed": true
   },
   "outputs": [],
   "source": [
    "# Increase the size of the map canvas and add a legend title then place the legend somewhere suitable on the map\n",
    "\n",
    "\n"
   ]
  },
  {
   "cell_type": "markdown",
   "metadata": {},
   "source": [
    "Looking at our map, it is clear that regions with similar values can be hard to differentiate. It can also be difficult to identify the edges of our map where the colours are light making it seem like they merge with the white background.\n",
    "We can get around this to add a bit of clarity on our map with some boundary lines for each area by using **`edgecolor`** to outline the area polygons and **`linewidth`** to set the thickness of the lines. <br>\n",
    "**`0`** is the lowest value you can assign for **`linewidth`** and **`1`** the highest.\n",
    "\n",
    "- Set the **`edgecolor`** equal to **`'k'`** and **`linewidth`** equal to **`0.2`**"
   ]
  },
  {
   "cell_type": "code",
   "execution_count": null,
   "metadata": {
    "collapsed": true
   },
   "outputs": [],
   "source": [
    "#Set the edgecolor and linewidth to the map\n",
    "\n"
   ]
  },
  {
   "cell_type": "markdown",
   "metadata": {},
   "source": [
    "Mapping **Average cost per incident** and redefining our customised categories.\n",
    "\n",
    "- Change the column variable to **`cost_per_incident`** so we can map the average cost per incident.\n",
    "- Reset the bins to 200 increments beginning with **`400`**\n",
    "- Update the map title to **`'Average cost of animal related incidents between 2009 and 2020'`**"
   ]
  },
  {
   "cell_type": "code",
   "execution_count": null,
   "metadata": {
    "collapsed": true
   },
   "outputs": [],
   "source": [
    "#Map the cost_per_incident variable and update the bins and the map title\n",
    "\n",
    "\n"
   ]
  },
  {
   "cell_type": "markdown",
   "metadata": {
    "collapsed": true
   },
   "source": [
    "## Saving maps to figures\n",
    "\n",
    "Exporting maps a map in Python can be done by using the command `plt.savefig`.\n",
    "\n",
    "We just need to specify the filetype as `.png`. We can also add an additional argument to this to specify the size we wish our image to be. For example, for a high definition quality image, we can use 1080. <br>\n",
    ">`plt.savefig('output_name.png', dpi = 300)`\n",
    "\n",
    "- Save the final map to your output folder."
   ]
  },
  {
   "cell_type": "code",
   "execution_count": null,
   "metadata": {
    "collapsed": true
   },
   "outputs": [],
   "source": [
    "#Save the final map\n",
    "\n"
   ]
  },
  {
   "cell_type": "markdown",
   "metadata": {
    "collapsed": true
   },
   "source": [
    "The end"
   ]
  }
 ],
 "metadata": {
  "kernelspec": {
   "display_name": "Python 3",
   "language": "python",
   "name": "python3"
  },
  "language_info": {
   "codemirror_mode": {
    "name": "ipython",
    "version": 3
   },
   "file_extension": ".py",
   "mimetype": "text/x-python",
   "name": "python",
   "nbconvert_exporter": "python",
   "pygments_lexer": "ipython3",
   "version": "3.6.1"
  }
 },
 "nbformat": 4,
 "nbformat_minor": 2
}
